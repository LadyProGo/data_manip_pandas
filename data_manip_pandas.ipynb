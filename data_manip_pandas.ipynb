{
  "cells": [
    {
      "cell_type": "markdown",
      "metadata": {
        "id": "KHGr_Vu-L0Bv"
      },
      "source": [
        "# LIBRAIRIE Datetime\n",
        "\n"
      ]
    },
    {
      "cell_type": "markdown",
      "metadata": {
        "id": "28Q5RIDxMlq5"
      },
      "source": [
        "Gérer les données temporelles avec Datetime\n",
        "Vous aurez assez souvent à gérer des données temporelles, notamment des horodatages."
      ]
    },
    {
      "cell_type": "markdown",
      "metadata": {
        "id": "0qQzaryLL0Bx"
      },
      "source": [
        "### Importation librairie\n"
      ]
    },
    {
      "cell_type": "code",
      "execution_count": 1,
      "metadata": {
        "id": "4i07THKRL0By"
      },
      "outputs": [],
      "source": [
        "# Librairie spécifique de Python pour gérer les dates : datetime\n",
        "# On aura accès à toutes les classes de la librairie avec leurs attributs et méthodes\n",
        "\n",
        "import datetime"
      ]
    },
    {
      "cell_type": "markdown",
      "metadata": {
        "id": "0kgw4JE4L0By"
      },
      "source": [
        "# La classse datetime\n",
        "La librairie ```datetime``` contient une classe du, même nom  ```datetime```. \n",
        "\n"
      ]
    },
    {
      "cell_type": "code",
      "execution_count": 3,
      "metadata": {
        "id": "o9hoWCXME7PC"
      },
      "outputs": [
        {
          "data": {
            "text/plain": [
              "datetime.datetime"
            ]
          },
          "execution_count": 3,
          "metadata": {},
          "output_type": "execute_result"
        }
      ],
      "source": [
        "# instancier un premier objet de la classe datetime\n",
        "\n",
        "a = datetime.datetime(2023,2,19,10,54,00)\n",
        "type(a)"
      ]
    },
    {
      "cell_type": "markdown",
      "metadata": {
        "id": "zsR7Ga8fUTxe"
      },
      "source": [
        "### méthode today() de cette classe permet de renvoyer la date et l'heure du jour"
      ]
    },
    {
      "cell_type": "code",
      "execution_count": 23,
      "metadata": {
        "id": "0d_-huC_TJq0"
      },
      "outputs": [
        {
          "name": "stdout",
          "output_type": "stream",
          "text": [
            "2023-02-22 14:22:34.857979\n"
          ]
        },
        {
          "data": {
            "text/plain": [
              "['__add__',\n",
              " '__class__',\n",
              " '__delattr__',\n",
              " '__dir__',\n",
              " '__doc__',\n",
              " '__eq__',\n",
              " '__format__',\n",
              " '__ge__',\n",
              " '__getattribute__',\n",
              " '__gt__',\n",
              " '__hash__',\n",
              " '__init__',\n",
              " '__init_subclass__',\n",
              " '__le__',\n",
              " '__lt__',\n",
              " '__ne__',\n",
              " '__new__',\n",
              " '__radd__',\n",
              " '__reduce__',\n",
              " '__reduce_ex__',\n",
              " '__repr__',\n",
              " '__rsub__',\n",
              " '__setattr__',\n",
              " '__sizeof__',\n",
              " '__str__',\n",
              " '__sub__',\n",
              " '__subclasshook__',\n",
              " 'astimezone',\n",
              " 'combine',\n",
              " 'ctime',\n",
              " 'date',\n",
              " 'day',\n",
              " 'dst',\n",
              " 'fold',\n",
              " 'fromisocalendar',\n",
              " 'fromisoformat',\n",
              " 'fromordinal',\n",
              " 'fromtimestamp',\n",
              " 'hour',\n",
              " 'isocalendar',\n",
              " 'isoformat',\n",
              " 'isoweekday',\n",
              " 'max',\n",
              " 'microsecond',\n",
              " 'min',\n",
              " 'minute',\n",
              " 'month',\n",
              " 'now',\n",
              " 'replace',\n",
              " 'resolution',\n",
              " 'second',\n",
              " 'strftime',\n",
              " 'strptime',\n",
              " 'time',\n",
              " 'timestamp',\n",
              " 'timetuple',\n",
              " 'timetz',\n",
              " 'today',\n",
              " 'toordinal',\n",
              " 'tzinfo',\n",
              " 'tzname',\n",
              " 'utcfromtimestamp',\n",
              " 'utcnow',\n",
              " 'utcoffset',\n",
              " 'utctimetuple',\n",
              " 'weekday',\n",
              " 'year']"
            ]
          },
          "execution_count": 23,
          "metadata": {},
          "output_type": "execute_result"
        }
      ],
      "source": [
        "# afficher la date et l'heure du jour\n",
        "today = datetime.datetime.today()\n",
        "print(today)\n",
        "type(today)\n",
        "dir(today)"
      ]
    },
    {
      "cell_type": "markdown",
      "metadata": {
        "id": "by5MznqBE7PD"
      },
      "source": [
        "### méthode strftime() permet de formater la date au format que l'on souhaite"
      ]
    },
    {
      "cell_type": "markdown",
      "metadata": {
        "id": "6n2wEhbjVbK6"
      },
      "source": [
        "De nombreux formats possibles\n",
        "\n",
        "\n",
        "<table>\n",
        "  <tr>\n",
        "   <td><strong>Write</strong>\n",
        "   </td>\n",
        "   <td><strong>Definition</strong>\n",
        "   </td>\n",
        "   <td><strong>Exemple</strong>\n",
        "   </td>\n",
        "  </tr>\n",
        "  <tr>\n",
        "   <td>%a\n",
        "   </td>\n",
        "   <td>Returns the abbreviated day of the week\n",
        "   </td>\n",
        "   <td>“Mon” / “Tue” / “Wed\n",
        "   </td>\n",
        "  </tr>\n",
        "  <tr>\n",
        "   <td>%A\n",
        "   </td>\n",
        "   <td>Returns the full weekday \"Sunday\" / \"Monday\"\n",
        "   </td>\n",
        "   <td>“Sunday” / “Monday”\n",
        "   </td>\n",
        "  </tr>\n",
        "  <tr>\n",
        "   <td>%d\n",
        "   </td>\n",
        "   <td>Returns the number of the day in the month in digits\n",
        "   </td>\n",
        "   <td>01, 02, 03, 04...\n",
        "   </td>\n",
        "  </tr>\n",
        "  <tr>\n",
        "   <td>%b\n",
        "   </td>\n",
        "   <td>Returns the month of the year in abbreviated form \n",
        "   </td>\n",
        "   <td>“Jan” / “Feb” ...\n",
        "   </td>\n",
        "  </tr>\n",
        "  <tr>\n",
        "   <td>%B\n",
        "   </td>\n",
        "   <td>Returns the full month of the year\n",
        "   </td>\n",
        "   <td>“January” / February”\n",
        "   </td>\n",
        "  </tr>\n",
        "  <tr>\n",
        "   <td>%m\n",
        "   </td>\n",
        "   <td>Returns the month of the year in digits\n",
        "   </td>\n",
        "   <td>01, 02, 03, 04...\n",
        "   </td>\n",
        "  </tr>\n",
        "  <tr>\n",
        "   <td>%y\n",
        "   </td>\n",
        "   <td>Returns the year in two digits\n",
        "   </td>\n",
        "   <td>98, 99, 00, 01\n",
        "   </td>\n",
        "  </tr>\n",
        "  <tr>\n",
        "   <td>%Y\n",
        "   </td>\n",
        "   <td>Returns the year in four digits\n",
        "   </td>\n",
        "   <td>1998, 1999, 2000, 2001\n",
        "   </td>\n",
        "  </tr>\n",
        "  <tr>\n",
        "   <td>%c\n",
        "   </td>\n",
        "   <td>Returns the date and time\n",
        "   </td>\n",
        "   <td>Tue Aug 16 21:30:00 1988\n",
        "   </td>\n",
        "  </tr>\n",
        "  <tr>\n",
        "   <td>%x\n",
        "   </td>\n",
        "   <td>Just return the date\n",
        "   </td>\n",
        "   <td>08/16/88\n",
        "   </td>\n",
        "  </tr>\n",
        "  <tr>\n",
        "   <td>%X\n",
        "   </td>\n",
        "   <td>Just return the time (hour)\n",
        "   </td>\n",
        "   <td>21:30:00\n",
        "   </td>\n",
        "  </tr>\n",
        "  <tr>\n",
        "   <td>%H\n",
        "   </td>\n",
        "   <td>Returns the time in 24hrs format\n",
        "   </td>\n",
        "   <td>“01” ”03” “22”\n",
        "   </td>\n",
        "  </tr>\n",
        "  <tr>\n",
        "   <td>%I\n",
        "   </td>\n",
        "   <td>Returns the time in 12hrs format\n",
        "   </td>\n",
        "   <td>“01” “03” “12”\n",
        "   </td>\n",
        "  </tr>\n",
        "  <tr>\n",
        "   <td>%M\n",
        "   </td>\n",
        "   <td>Returns minutes\n",
        "   </td>\n",
        "   <td>“01” “58” “59” “00”\n",
        "   </td>\n",
        "  </tr>\n",
        "  <tr>\n",
        "   <td>%S\n",
        "   </td>\n",
        "   <td>Returns seconds\n",
        "   </td>\n",
        "   <td>“01” “58” “59” “00”\n",
        "   </td>\n",
        "  </tr>\n",
        "</table>\n"
      ]
    },
    {
      "cell_type": "code",
      "execution_count": 9,
      "metadata": {
        "id": "8veWnw9qE7PF"
      },
      "outputs": [
        {
          "data": {
            "text/plain": [
              "datetime.datetime(2023, 2, 22, 14, 10, 2, 529637)"
            ]
          },
          "execution_count": 9,
          "metadata": {},
          "output_type": "execute_result"
        }
      ],
      "source": [
        "today\n"
      ]
    },
    {
      "cell_type": "code",
      "execution_count": 10,
      "metadata": {},
      "outputs": [
        {
          "data": {
            "text/plain": [
              "'Wed'"
            ]
          },
          "execution_count": 10,
          "metadata": {},
          "output_type": "execute_result"
        }
      ],
      "source": [
        "today.strftime('%a')"
      ]
    },
    {
      "cell_type": "code",
      "execution_count": 11,
      "metadata": {},
      "outputs": [
        {
          "data": {
            "text/plain": [
              "'Wednesday'"
            ]
          },
          "execution_count": 11,
          "metadata": {},
          "output_type": "execute_result"
        }
      ],
      "source": [
        "today.strftime('%A')"
      ]
    },
    {
      "cell_type": "code",
      "execution_count": 12,
      "metadata": {},
      "outputs": [
        {
          "data": {
            "text/plain": [
              "'Wed Feb 22 14:10:02 2023'"
            ]
          },
          "execution_count": 12,
          "metadata": {},
          "output_type": "execute_result"
        }
      ],
      "source": [
        "today.strftime('%c')"
      ]
    },
    {
      "cell_type": "code",
      "execution_count": 14,
      "metadata": {},
      "outputs": [
        {
          "data": {
            "text/plain": [
              "'Wednesday 22 February 2023'"
            ]
          },
          "execution_count": 14,
          "metadata": {},
          "output_type": "execute_result"
        }
      ],
      "source": [
        "today.strftime('%A %d %B %Y')"
      ]
    },
    {
      "cell_type": "markdown",
      "metadata": {
        "id": "Dcc8EJcnL0Bz"
      },
      "source": [
        "### Attributs utiles"
      ]
    },
    {
      "cell_type": "code",
      "execution_count": 19,
      "metadata": {
        "id": "5RpnJK3vSJIG"
      },
      "outputs": [
        {
          "name": "stdout",
          "output_type": "stream",
          "text": [
            "Day: 22\n",
            "Month: 2\n",
            "Year: 2023\n",
            "Hour: 14\n"
          ]
        }
      ],
      "source": [
        "print(\"Day:\", today.day)\n",
        "print(\"Month:\", today.month)\n",
        "print(\"Year:\", today.year)\n",
        "print(\"Hour:\", today.hour)"
      ]
    },
    {
      "cell_type": "markdown",
      "metadata": {
        "id": "PvpqXAi3XTsR"
      },
      "source": [
        "### Méthodes utiles\n",
        "#### .date()       .time()"
      ]
    },
    {
      "cell_type": "code",
      "execution_count": 20,
      "metadata": {
        "id": "CeFNLfCJSJIG"
      },
      "outputs": [
        {
          "name": "stdout",
          "output_type": "stream",
          "text": [
            "date:  2023-02-22\n"
          ]
        }
      ],
      "source": [
        "print('date: ', today.date())"
      ]
    },
    {
      "cell_type": "code",
      "execution_count": 24,
      "metadata": {},
      "outputs": [
        {
          "name": "stdout",
          "output_type": "stream",
          "text": [
            "Time: 14:22:34.857979\n"
          ]
        }
      ],
      "source": [
        "print('Time:', today.time())"
      ]
    },
    {
      "cell_type": "markdown",
      "metadata": {
        "id": "ScC9wRyJL0B1"
      },
      "source": [
        "#### .replace()\n",
        "Pour changer une valeur dans la date"
      ]
    },
    {
      "cell_type": "code",
      "execution_count": 26,
      "metadata": {
        "id": "QNFWNYaaSJIH"
      },
      "outputs": [],
      "source": [
        "modified_date = today.replace(month=7)"
      ]
    },
    {
      "cell_type": "code",
      "execution_count": 27,
      "metadata": {},
      "outputs": [
        {
          "data": {
            "text/plain": [
              "datetime.datetime(2023, 7, 22, 14, 22, 34, 857979)"
            ]
          },
          "execution_count": 27,
          "metadata": {},
          "output_type": "execute_result"
        }
      ],
      "source": [
        "modified_date"
      ]
    },
    {
      "cell_type": "code",
      "execution_count": 28,
      "metadata": {},
      "outputs": [],
      "source": [
        "modified_date = today.replace(year=2024)"
      ]
    },
    {
      "cell_type": "code",
      "execution_count": 29,
      "metadata": {},
      "outputs": [
        {
          "data": {
            "text/plain": [
              "datetime.datetime(2024, 2, 22, 14, 22, 34, 857979)"
            ]
          },
          "execution_count": 29,
          "metadata": {},
          "output_type": "execute_result"
        }
      ],
      "source": [
        "modified_date"
      ]
    },
    {
      "cell_type": "code",
      "execution_count": 30,
      "metadata": {},
      "outputs": [
        {
          "ename": "ValueError",
          "evalue": "day is out of range for month",
          "output_type": "error",
          "traceback": [
            "\u001b[1;31m---------------------------------------------------------------------------\u001b[0m",
            "\u001b[1;31mValueError\u001b[0m                                Traceback (most recent call last)",
            "\u001b[1;32mc:\\LadyPro\\IT training\\Jedha\\02Data_Analytics\\05EDA\\datetime_eleves.ipynb Cell 26\u001b[0m in \u001b[0;36m<cell line: 1>\u001b[1;34m()\u001b[0m\n\u001b[1;32m----> <a href='vscode-notebook-cell:/c%3A/LadyPro/IT%20training/Jedha/02Data_Analytics/05EDA/datetime_eleves.ipynb#X55sZmlsZQ%3D%3D?line=0'>1</a>\u001b[0m modified_date \u001b[39m=\u001b[39m today\u001b[39m.\u001b[39;49mreplace(day\u001b[39m=\u001b[39;49m\u001b[39m30\u001b[39;49m)\n",
            "\u001b[1;31mValueError\u001b[0m: day is out of range for month"
          ]
        }
      ],
      "source": [
        "#modified_date = today.replace(day=30)"
      ]
    },
    {
      "cell_type": "markdown",
      "metadata": {
        "id": "UQ3gV6r0L0B1"
      },
      "source": [
        "#### .weekday()\n",
        "Renvoie le jour de la semaine (Monday est encodée 0, Tuesday 1, Wednesday 2, etc..):"
      ]
    },
    {
      "cell_type": "code",
      "execution_count": 31,
      "metadata": {},
      "outputs": [],
      "source": [
        "weekday = today.weekday()"
      ]
    },
    {
      "cell_type": "code",
      "execution_count": 32,
      "metadata": {},
      "outputs": [
        {
          "data": {
            "text/plain": [
              "2"
            ]
          },
          "execution_count": 32,
          "metadata": {},
          "output_type": "execute_result"
        }
      ],
      "source": [
        "weekday"
      ]
    },
    {
      "attachments": {},
      "cell_type": "markdown",
      "metadata": {},
      "source": [
        "Méthode ISOFORMAT()"
      ]
    },
    {
      "cell_type": "code",
      "execution_count": 33,
      "metadata": {
        "id": "eEeSwq1gSJIH"
      },
      "outputs": [
        {
          "data": {
            "text/plain": [
              "'2023-02-22T14:22:34.857979'"
            ]
          },
          "execution_count": 33,
          "metadata": {},
          "output_type": "execute_result"
        }
      ],
      "source": [
        "today.isoformat()"
      ]
    },
    {
      "cell_type": "markdown",
      "metadata": {
        "id": "Y6EOQS0lL0B3"
      },
      "source": [
        "# Les classes date and time"
      ]
    },
    {
      "cell_type": "code",
      "execution_count": 35,
      "metadata": {
        "id": "5c-SV8SaL0B3",
        "tags": []
      },
      "outputs": [
        {
          "name": "stdout",
          "output_type": "stream",
          "text": [
            "13:30:00\n"
          ]
        }
      ],
      "source": [
        "# Créez un objet time, créez un objet date et combinez-les pour donner un objet datetime\n",
        "\n",
        "one_hour = datetime.time(13,30,00)\n",
        "type(one_hour)\n",
        "print(one_hour)"
      ]
    },
    {
      "cell_type": "code",
      "execution_count": 36,
      "metadata": {},
      "outputs": [
        {
          "name": "stdout",
          "output_type": "stream",
          "text": [
            "1900-09-30\n"
          ]
        }
      ],
      "source": [
        "one_date = datetime.date(1900,9,30)\n",
        "type(one_date)\n",
        "print(one_date)"
      ]
    },
    {
      "cell_type": "code",
      "execution_count": 37,
      "metadata": {},
      "outputs": [
        {
          "data": {
            "text/plain": [
              "1900"
            ]
          },
          "execution_count": 37,
          "metadata": {},
          "output_type": "execute_result"
        }
      ],
      "source": [
        "one_date.year"
      ]
    },
    {
      "cell_type": "code",
      "execution_count": 51,
      "metadata": {},
      "outputs": [
        {
          "name": "stdout",
          "output_type": "stream",
          "text": [
            "1900-09-30 13:30:00\n"
          ]
        }
      ],
      "source": [
        "combined = datetime.datetime.combine(one_date, one_hour)\n",
        "print(combined)"
      ]
    },
    {
      "cell_type": "markdown",
      "metadata": {
        "id": "u6tF4xe9L0B3"
      },
      "source": [
        "# La classe timedelta : faire des  operations sur dates and times\n",
        "\n"
      ]
    },
    {
      "cell_type": "code",
      "execution_count": 39,
      "metadata": {},
      "outputs": [
        {
          "name": "stdout",
          "output_type": "stream",
          "text": [
            "10 days, 0:00:00\n"
          ]
        }
      ],
      "source": [
        "duree = datetime.timedelta(days = 10)\n",
        "type(duree)\n"
      ]
    },
    {
      "cell_type": "code",
      "execution_count": 42,
      "metadata": {
        "id": "Z9JtnsIDcU6b"
      },
      "outputs": [
        {
          "name": "stdout",
          "output_type": "stream",
          "text": [
            "1900-09-20\n"
          ]
        },
        {
          "data": {
            "text/plain": [
              "datetime.date"
            ]
          },
          "execution_count": 42,
          "metadata": {},
          "output_type": "execute_result"
        }
      ],
      "source": [
        "# enlever 10 jours\n",
        "\n",
        "new_date = one_date - duree\n",
        "print(new_date)\n",
        "type(new_date)"
      ]
    },
    {
      "cell_type": "code",
      "execution_count": 48,
      "metadata": {
        "id": "Pwzt1HPMcvtm"
      },
      "outputs": [
        {
          "name": "stdout",
          "output_type": "stream",
          "text": [
            "2023-02-22 14:48:14.597616\n",
            "2:00:00\n",
            "2023-02-22 16:48:14.597616\n"
          ]
        }
      ],
      "source": [
        "# exemple : ajouter 2 heures\n",
        "\n",
        "today = datetime.datetime.today()\n",
        "print(today)\n",
        "\n",
        "duree = datetime.timedelta(hours=2)\n",
        "print(duree)\n",
        "\n",
        "new_today = today + duree\n",
        "print(new_today)\n"
      ]
    },
    {
      "attachments": {},
      "cell_type": "markdown",
      "metadata": {
        "id": "jS3GmKbzE7PK"
      },
      "source": [
        "## Très utile : avec PANDAS"
      ]
    },
    {
      "cell_type": "code",
      "execution_count": 53,
      "metadata": {
        "id": "MXvIK-kadNbg"
      },
      "outputs": [
        {
          "data": {
            "text/html": [
              "<div>\n",
              "<style scoped>\n",
              "    .dataframe tbody tr th:only-of-type {\n",
              "        vertical-align: middle;\n",
              "    }\n",
              "\n",
              "    .dataframe tbody tr th {\n",
              "        vertical-align: top;\n",
              "    }\n",
              "\n",
              "    .dataframe thead th {\n",
              "        text-align: right;\n",
              "    }\n",
              "</style>\n",
              "<table border=\"1\" class=\"dataframe\">\n",
              "  <thead>\n",
              "    <tr style=\"text-align: right;\">\n",
              "      <th></th>\n",
              "      <th>Date</th>\n",
              "      <th>Quantité</th>\n",
              "    </tr>\n",
              "  </thead>\n",
              "  <tbody>\n",
              "    <tr>\n",
              "      <th>0</th>\n",
              "      <td>20/11/2018</td>\n",
              "      <td>4</td>\n",
              "    </tr>\n",
              "    <tr>\n",
              "      <th>1</th>\n",
              "      <td>23/10/2020</td>\n",
              "      <td>5</td>\n",
              "    </tr>\n",
              "    <tr>\n",
              "      <th>2</th>\n",
              "      <td>23/02/2015</td>\n",
              "      <td>8</td>\n",
              "    </tr>\n",
              "    <tr>\n",
              "      <th>3</th>\n",
              "      <td>15/05/2016</td>\n",
              "      <td>9</td>\n",
              "    </tr>\n",
              "    <tr>\n",
              "      <th>4</th>\n",
              "      <td>07/12/2011</td>\n",
              "      <td>10</td>\n",
              "    </tr>\n",
              "    <tr>\n",
              "      <th>5</th>\n",
              "      <td>22/02/2023</td>\n",
              "      <td>8</td>\n",
              "    </tr>\n",
              "  </tbody>\n",
              "</table>\n",
              "</div>"
            ],
            "text/plain": [
              "         Date  Quantité\n",
              "0  20/11/2018         4\n",
              "1  23/10/2020         5\n",
              "2  23/02/2015         8\n",
              "3  15/05/2016         9\n",
              "4  07/12/2011        10\n",
              "5  22/02/2023         8"
            ]
          },
          "execution_count": 53,
          "metadata": {},
          "output_type": "execute_result"
        }
      ],
      "source": [
        "import pandas as pd\n",
        "\n",
        "df = pd.DataFrame({'Date' : [\"20/11/2018\", \"23/10/2020\", \"23/02/2015\", \"15/05/2016\", \"07/12/2011\", \"22/02/2023\" ], 'Quantité' : [4,5,8,9,10,8]})\n",
        "df"
      ]
    },
    {
      "cell_type": "code",
      "execution_count": 54,
      "metadata": {},
      "outputs": [
        {
          "data": {
            "text/html": [
              "<div>\n",
              "<style scoped>\n",
              "    .dataframe tbody tr th:only-of-type {\n",
              "        vertical-align: middle;\n",
              "    }\n",
              "\n",
              "    .dataframe tbody tr th {\n",
              "        vertical-align: top;\n",
              "    }\n",
              "\n",
              "    .dataframe thead th {\n",
              "        text-align: right;\n",
              "    }\n",
              "</style>\n",
              "<table border=\"1\" class=\"dataframe\">\n",
              "  <thead>\n",
              "    <tr style=\"text-align: right;\">\n",
              "      <th></th>\n",
              "      <th>Date</th>\n",
              "      <th>Quantité</th>\n",
              "    </tr>\n",
              "  </thead>\n",
              "  <tbody>\n",
              "    <tr>\n",
              "      <th>0</th>\n",
              "      <td>20/11/2018</td>\n",
              "      <td>4</td>\n",
              "    </tr>\n",
              "    <tr>\n",
              "      <th>1</th>\n",
              "      <td>23/10/2020</td>\n",
              "      <td>5</td>\n",
              "    </tr>\n",
              "    <tr>\n",
              "      <th>2</th>\n",
              "      <td>23/02/2015</td>\n",
              "      <td>8</td>\n",
              "    </tr>\n",
              "    <tr>\n",
              "      <th>3</th>\n",
              "      <td>15/05/2016</td>\n",
              "      <td>9</td>\n",
              "    </tr>\n",
              "    <tr>\n",
              "      <th>4</th>\n",
              "      <td>07/12/2011</td>\n",
              "      <td>10</td>\n",
              "    </tr>\n",
              "  </tbody>\n",
              "</table>\n",
              "</div>"
            ],
            "text/plain": [
              "         Date  Quantité\n",
              "0  20/11/2018         4\n",
              "1  23/10/2020         5\n",
              "2  23/02/2015         8\n",
              "3  15/05/2016         9\n",
              "4  07/12/2011        10"
            ]
          },
          "execution_count": 54,
          "metadata": {},
          "output_type": "execute_result"
        }
      ],
      "source": [
        "df.head()"
      ]
    },
    {
      "cell_type": "code",
      "execution_count": 78,
      "metadata": {},
      "outputs": [
        {
          "data": {
            "text/html": [
              "<div>\n",
              "<style scoped>\n",
              "    .dataframe tbody tr th:only-of-type {\n",
              "        vertical-align: middle;\n",
              "    }\n",
              "\n",
              "    .dataframe tbody tr th {\n",
              "        vertical-align: top;\n",
              "    }\n",
              "\n",
              "    .dataframe thead th {\n",
              "        text-align: right;\n",
              "    }\n",
              "</style>\n",
              "<table border=\"1\" class=\"dataframe\">\n",
              "  <thead>\n",
              "    <tr style=\"text-align: right;\">\n",
              "      <th></th>\n",
              "      <th>Date</th>\n",
              "      <th>Quantité</th>\n",
              "      <th>Annee</th>\n",
              "      <th>Mois</th>\n",
              "      <th>Jour</th>\n",
              "    </tr>\n",
              "  </thead>\n",
              "  <tbody>\n",
              "    <tr>\n",
              "      <th>1</th>\n",
              "      <td>2020-10-23</td>\n",
              "      <td>5</td>\n",
              "      <td>2020</td>\n",
              "      <td>10</td>\n",
              "      <td>23</td>\n",
              "    </tr>\n",
              "    <tr>\n",
              "      <th>2</th>\n",
              "      <td>2015-02-23</td>\n",
              "      <td>8</td>\n",
              "      <td>2015</td>\n",
              "      <td>2</td>\n",
              "      <td>23</td>\n",
              "    </tr>\n",
              "    <tr>\n",
              "      <th>3</th>\n",
              "      <td>2016-05-15</td>\n",
              "      <td>9</td>\n",
              "      <td>2016</td>\n",
              "      <td>5</td>\n",
              "      <td>15</td>\n",
              "    </tr>\n",
              "    <tr>\n",
              "      <th>4</th>\n",
              "      <td>2011-07-12</td>\n",
              "      <td>10</td>\n",
              "      <td>2011</td>\n",
              "      <td>7</td>\n",
              "      <td>12</td>\n",
              "    </tr>\n",
              "    <tr>\n",
              "      <th>5</th>\n",
              "      <td>2023-02-22</td>\n",
              "      <td>8</td>\n",
              "      <td>2023</td>\n",
              "      <td>2</td>\n",
              "      <td>22</td>\n",
              "    </tr>\n",
              "  </tbody>\n",
              "</table>\n",
              "</div>"
            ],
            "text/plain": [
              "        Date  Quantité  Annee  Mois  Jour\n",
              "1 2020-10-23         5   2020    10    23\n",
              "2 2015-02-23         8   2015     2    23\n",
              "3 2016-05-15         9   2016     5    15\n",
              "4 2011-07-12        10   2011     7    12\n",
              "5 2023-02-22         8   2023     2    22"
            ]
          },
          "execution_count": 78,
          "metadata": {},
          "output_type": "execute_result"
        }
      ],
      "source": [
        "df.tail()"
      ]
    },
    {
      "cell_type": "code",
      "execution_count": 79,
      "metadata": {},
      "outputs": [
        {
          "name": "stdout",
          "output_type": "stream",
          "text": [
            "<class 'pandas.core.frame.DataFrame'>\n",
            "RangeIndex: 6 entries, 0 to 5\n",
            "Data columns (total 5 columns):\n",
            " #   Column    Non-Null Count  Dtype         \n",
            "---  ------    --------------  -----         \n",
            " 0   Date      6 non-null      datetime64[ns]\n",
            " 1   Quantité  6 non-null      int64         \n",
            " 2   Annee     6 non-null      int64         \n",
            " 3   Mois      6 non-null      int64         \n",
            " 4   Jour      6 non-null      int64         \n",
            "dtypes: datetime64[ns](1), int64(4)\n",
            "memory usage: 368.0 bytes\n"
          ]
        }
      ],
      "source": [
        "df.info()"
      ]
    },
    {
      "cell_type": "code",
      "execution_count": 100,
      "metadata": {},
      "outputs": [
        {
          "data": {
            "text/plain": [
              "0   2018-11-20\n",
              "1   2020-10-23\n",
              "2   2015-02-23\n",
              "3   2016-05-15\n",
              "4   2011-07-12\n",
              "5   2023-02-22\n",
              "Name: Date, dtype: datetime64[ns]"
            ]
          },
          "execution_count": 100,
          "metadata": {},
          "output_type": "execute_result"
        }
      ],
      "source": [
        "df['Date']"
      ]
    },
    {
      "cell_type": "code",
      "execution_count": 101,
      "metadata": {},
      "outputs": [
        {
          "data": {
            "text/plain": [
              "0     4\n",
              "1     5\n",
              "2     8\n",
              "3     9\n",
              "4    10\n",
              "5     8\n",
              "Name: Quantité, dtype: int64"
            ]
          },
          "execution_count": 101,
          "metadata": {},
          "output_type": "execute_result"
        }
      ],
      "source": [
        "df['Quantité']"
      ]
    },
    {
      "cell_type": "code",
      "execution_count": null,
      "metadata": {
        "id": "nzffJspyE7PL"
      },
      "outputs": [],
      "source": [
        "# Convertir la colonne date en objet datetime : avec la méthode pandas.to_datetime\n"
      ]
    },
    {
      "cell_type": "code",
      "execution_count": 75,
      "metadata": {},
      "outputs": [],
      "source": [
        "today = datetime.datetime.today()"
      ]
    },
    {
      "cell_type": "code",
      "execution_count": 76,
      "metadata": {},
      "outputs": [
        {
          "name": "stdout",
          "output_type": "stream",
          "text": [
            "2023-02-22 15:24:00.468065\n"
          ]
        }
      ],
      "source": [
        "print(today)"
      ]
    },
    {
      "cell_type": "code",
      "execution_count": 59,
      "metadata": {},
      "outputs": [
        {
          "name": "stderr",
          "output_type": "stream",
          "text": [
            "C:\\Users\\ladypro\\AppData\\Local\\Temp\\ipykernel_12876\\2394721818.py:1: UserWarning: Parsing '20/11/2018' in DD/MM/YYYY format. Provide format or specify infer_datetime_format=True for consistent parsing.\n",
            "  df['Date'] = pd.to_datetime(df['Date'])\n",
            "C:\\Users\\ladypro\\AppData\\Local\\Temp\\ipykernel_12876\\2394721818.py:1: UserWarning: Parsing '23/10/2020' in DD/MM/YYYY format. Provide format or specify infer_datetime_format=True for consistent parsing.\n",
            "  df['Date'] = pd.to_datetime(df['Date'])\n",
            "C:\\Users\\ladypro\\AppData\\Local\\Temp\\ipykernel_12876\\2394721818.py:1: UserWarning: Parsing '23/02/2015' in DD/MM/YYYY format. Provide format or specify infer_datetime_format=True for consistent parsing.\n",
            "  df['Date'] = pd.to_datetime(df['Date'])\n",
            "C:\\Users\\ladypro\\AppData\\Local\\Temp\\ipykernel_12876\\2394721818.py:1: UserWarning: Parsing '15/05/2016' in DD/MM/YYYY format. Provide format or specify infer_datetime_format=True for consistent parsing.\n",
            "  df['Date'] = pd.to_datetime(df['Date'])\n",
            "C:\\Users\\ladypro\\AppData\\Local\\Temp\\ipykernel_12876\\2394721818.py:1: UserWarning: Parsing '22/02/2023' in DD/MM/YYYY format. Provide format or specify infer_datetime_format=True for consistent parsing.\n",
            "  df['Date'] = pd.to_datetime(df['Date'])\n"
          ]
        }
      ],
      "source": [
        "df['Date'] = pd.to_datetime(df['Date'])"
      ]
    },
    {
      "cell_type": "code",
      "execution_count": 60,
      "metadata": {},
      "outputs": [
        {
          "name": "stdout",
          "output_type": "stream",
          "text": [
            "<class 'pandas.core.frame.DataFrame'>\n",
            "RangeIndex: 6 entries, 0 to 5\n",
            "Data columns (total 2 columns):\n",
            " #   Column    Non-Null Count  Dtype         \n",
            "---  ------    --------------  -----         \n",
            " 0   Date      6 non-null      datetime64[ns]\n",
            " 1   Quantité  6 non-null      int64         \n",
            "dtypes: datetime64[ns](1), int64(1)\n",
            "memory usage: 224.0 bytes\n"
          ]
        }
      ],
      "source": [
        "df.info()"
      ]
    },
    {
      "cell_type": "code",
      "execution_count": 71,
      "metadata": {
        "id": "Bz1fAKzjc62s"
      },
      "outputs": [],
      "source": [
        "# création d'une colonne Année et d'une colonne Mois avec les attributs .year et .month\n",
        "\n",
        "df['Annee'] = df['Date'].apply(lambda x: x.year)"
      ]
    },
    {
      "cell_type": "code",
      "execution_count": 69,
      "metadata": {},
      "outputs": [
        {
          "data": {
            "text/html": [
              "<div>\n",
              "<style scoped>\n",
              "    .dataframe tbody tr th:only-of-type {\n",
              "        vertical-align: middle;\n",
              "    }\n",
              "\n",
              "    .dataframe tbody tr th {\n",
              "        vertical-align: top;\n",
              "    }\n",
              "\n",
              "    .dataframe thead th {\n",
              "        text-align: right;\n",
              "    }\n",
              "</style>\n",
              "<table border=\"1\" class=\"dataframe\">\n",
              "  <thead>\n",
              "    <tr style=\"text-align: right;\">\n",
              "      <th></th>\n",
              "      <th>Date</th>\n",
              "      <th>Quantité</th>\n",
              "      <th>Annee</th>\n",
              "    </tr>\n",
              "  </thead>\n",
              "  <tbody>\n",
              "    <tr>\n",
              "      <th>0</th>\n",
              "      <td>2018-11-20</td>\n",
              "      <td>4</td>\n",
              "      <td>2018</td>\n",
              "    </tr>\n",
              "    <tr>\n",
              "      <th>1</th>\n",
              "      <td>2020-10-23</td>\n",
              "      <td>5</td>\n",
              "      <td>2020</td>\n",
              "    </tr>\n",
              "    <tr>\n",
              "      <th>2</th>\n",
              "      <td>2015-02-23</td>\n",
              "      <td>8</td>\n",
              "      <td>2015</td>\n",
              "    </tr>\n",
              "    <tr>\n",
              "      <th>3</th>\n",
              "      <td>2016-05-15</td>\n",
              "      <td>9</td>\n",
              "      <td>2016</td>\n",
              "    </tr>\n",
              "    <tr>\n",
              "      <th>4</th>\n",
              "      <td>2011-07-12</td>\n",
              "      <td>10</td>\n",
              "      <td>2011</td>\n",
              "    </tr>\n",
              "    <tr>\n",
              "      <th>5</th>\n",
              "      <td>2023-02-22</td>\n",
              "      <td>8</td>\n",
              "      <td>2023</td>\n",
              "    </tr>\n",
              "  </tbody>\n",
              "</table>\n",
              "</div>"
            ],
            "text/plain": [
              "        Date  Quantité  Annee\n",
              "0 2018-11-20         4   2018\n",
              "1 2020-10-23         5   2020\n",
              "2 2015-02-23         8   2015\n",
              "3 2016-05-15         9   2016\n",
              "4 2011-07-12        10   2011\n",
              "5 2023-02-22         8   2023"
            ]
          },
          "execution_count": 69,
          "metadata": {},
          "output_type": "execute_result"
        }
      ],
      "source": [
        "df"
      ]
    },
    {
      "cell_type": "code",
      "execution_count": 73,
      "metadata": {},
      "outputs": [],
      "source": [
        "df['Mois'] = df['Date'].apply(lambda y: y.month)"
      ]
    },
    {
      "cell_type": "code",
      "execution_count": 74,
      "metadata": {},
      "outputs": [
        {
          "data": {
            "text/html": [
              "<div>\n",
              "<style scoped>\n",
              "    .dataframe tbody tr th:only-of-type {\n",
              "        vertical-align: middle;\n",
              "    }\n",
              "\n",
              "    .dataframe tbody tr th {\n",
              "        vertical-align: top;\n",
              "    }\n",
              "\n",
              "    .dataframe thead th {\n",
              "        text-align: right;\n",
              "    }\n",
              "</style>\n",
              "<table border=\"1\" class=\"dataframe\">\n",
              "  <thead>\n",
              "    <tr style=\"text-align: right;\">\n",
              "      <th></th>\n",
              "      <th>Date</th>\n",
              "      <th>Quantité</th>\n",
              "      <th>Annee</th>\n",
              "      <th>Mois</th>\n",
              "    </tr>\n",
              "  </thead>\n",
              "  <tbody>\n",
              "    <tr>\n",
              "      <th>0</th>\n",
              "      <td>2018-11-20</td>\n",
              "      <td>4</td>\n",
              "      <td>2018</td>\n",
              "      <td>11</td>\n",
              "    </tr>\n",
              "    <tr>\n",
              "      <th>1</th>\n",
              "      <td>2020-10-23</td>\n",
              "      <td>5</td>\n",
              "      <td>2020</td>\n",
              "      <td>10</td>\n",
              "    </tr>\n",
              "    <tr>\n",
              "      <th>2</th>\n",
              "      <td>2015-02-23</td>\n",
              "      <td>8</td>\n",
              "      <td>2015</td>\n",
              "      <td>2</td>\n",
              "    </tr>\n",
              "    <tr>\n",
              "      <th>3</th>\n",
              "      <td>2016-05-15</td>\n",
              "      <td>9</td>\n",
              "      <td>2016</td>\n",
              "      <td>5</td>\n",
              "    </tr>\n",
              "    <tr>\n",
              "      <th>4</th>\n",
              "      <td>2011-07-12</td>\n",
              "      <td>10</td>\n",
              "      <td>2011</td>\n",
              "      <td>7</td>\n",
              "    </tr>\n",
              "    <tr>\n",
              "      <th>5</th>\n",
              "      <td>2023-02-22</td>\n",
              "      <td>8</td>\n",
              "      <td>2023</td>\n",
              "      <td>2</td>\n",
              "    </tr>\n",
              "  </tbody>\n",
              "</table>\n",
              "</div>"
            ],
            "text/plain": [
              "        Date  Quantité  Annee  Mois\n",
              "0 2018-11-20         4   2018    11\n",
              "1 2020-10-23         5   2020    10\n",
              "2 2015-02-23         8   2015     2\n",
              "3 2016-05-15         9   2016     5\n",
              "4 2011-07-12        10   2011     7\n",
              "5 2023-02-22         8   2023     2"
            ]
          },
          "execution_count": 74,
          "metadata": {},
          "output_type": "execute_result"
        }
      ],
      "source": [
        "df"
      ]
    },
    {
      "cell_type": "code",
      "execution_count": 77,
      "metadata": {},
      "outputs": [
        {
          "data": {
            "text/html": [
              "<div>\n",
              "<style scoped>\n",
              "    .dataframe tbody tr th:only-of-type {\n",
              "        vertical-align: middle;\n",
              "    }\n",
              "\n",
              "    .dataframe tbody tr th {\n",
              "        vertical-align: top;\n",
              "    }\n",
              "\n",
              "    .dataframe thead th {\n",
              "        text-align: right;\n",
              "    }\n",
              "</style>\n",
              "<table border=\"1\" class=\"dataframe\">\n",
              "  <thead>\n",
              "    <tr style=\"text-align: right;\">\n",
              "      <th></th>\n",
              "      <th>Date</th>\n",
              "      <th>Quantité</th>\n",
              "      <th>Annee</th>\n",
              "      <th>Mois</th>\n",
              "      <th>Jour</th>\n",
              "    </tr>\n",
              "  </thead>\n",
              "  <tbody>\n",
              "    <tr>\n",
              "      <th>0</th>\n",
              "      <td>2018-11-20</td>\n",
              "      <td>4</td>\n",
              "      <td>2018</td>\n",
              "      <td>11</td>\n",
              "      <td>20</td>\n",
              "    </tr>\n",
              "    <tr>\n",
              "      <th>1</th>\n",
              "      <td>2020-10-23</td>\n",
              "      <td>5</td>\n",
              "      <td>2020</td>\n",
              "      <td>10</td>\n",
              "      <td>23</td>\n",
              "    </tr>\n",
              "    <tr>\n",
              "      <th>2</th>\n",
              "      <td>2015-02-23</td>\n",
              "      <td>8</td>\n",
              "      <td>2015</td>\n",
              "      <td>2</td>\n",
              "      <td>23</td>\n",
              "    </tr>\n",
              "    <tr>\n",
              "      <th>3</th>\n",
              "      <td>2016-05-15</td>\n",
              "      <td>9</td>\n",
              "      <td>2016</td>\n",
              "      <td>5</td>\n",
              "      <td>15</td>\n",
              "    </tr>\n",
              "    <tr>\n",
              "      <th>4</th>\n",
              "      <td>2011-07-12</td>\n",
              "      <td>10</td>\n",
              "      <td>2011</td>\n",
              "      <td>7</td>\n",
              "      <td>12</td>\n",
              "    </tr>\n",
              "    <tr>\n",
              "      <th>5</th>\n",
              "      <td>2023-02-22</td>\n",
              "      <td>8</td>\n",
              "      <td>2023</td>\n",
              "      <td>2</td>\n",
              "      <td>22</td>\n",
              "    </tr>\n",
              "  </tbody>\n",
              "</table>\n",
              "</div>"
            ],
            "text/plain": [
              "        Date  Quantité  Annee  Mois  Jour\n",
              "0 2018-11-20         4   2018    11    20\n",
              "1 2020-10-23         5   2020    10    23\n",
              "2 2015-02-23         8   2015     2    23\n",
              "3 2016-05-15         9   2016     5    15\n",
              "4 2011-07-12        10   2011     7    12\n",
              "5 2023-02-22         8   2023     2    22"
            ]
          },
          "execution_count": 77,
          "metadata": {},
          "output_type": "execute_result"
        }
      ],
      "source": [
        "df['Jour'] = df['Date'].apply(lambda z: z.day)\n",
        "df"
      ]
    },
    {
      "cell_type": "code",
      "execution_count": 84,
      "metadata": {},
      "outputs": [
        {
          "data": {
            "text/html": [
              "<div>\n",
              "<style scoped>\n",
              "    .dataframe tbody tr th:only-of-type {\n",
              "        vertical-align: middle;\n",
              "    }\n",
              "\n",
              "    .dataframe tbody tr th {\n",
              "        vertical-align: top;\n",
              "    }\n",
              "\n",
              "    .dataframe thead th {\n",
              "        text-align: right;\n",
              "    }\n",
              "</style>\n",
              "<table border=\"1\" class=\"dataframe\">\n",
              "  <thead>\n",
              "    <tr style=\"text-align: right;\">\n",
              "      <th></th>\n",
              "      <th>Date</th>\n",
              "      <th>Quantité</th>\n",
              "      <th>Annee</th>\n",
              "      <th>Mois</th>\n",
              "      <th>Jour</th>\n",
              "      <th>Jour cal</th>\n",
              "    </tr>\n",
              "  </thead>\n",
              "  <tbody>\n",
              "    <tr>\n",
              "      <th>0</th>\n",
              "      <td>2018-11-20</td>\n",
              "      <td>4</td>\n",
              "      <td>2018</td>\n",
              "      <td>11</td>\n",
              "      <td>20</td>\n",
              "      <td>399</td>\n",
              "    </tr>\n",
              "    <tr>\n",
              "      <th>1</th>\n",
              "      <td>2020-10-23</td>\n",
              "      <td>5</td>\n",
              "      <td>2020</td>\n",
              "      <td>10</td>\n",
              "      <td>23</td>\n",
              "      <td>528</td>\n",
              "    </tr>\n",
              "    <tr>\n",
              "      <th>2</th>\n",
              "      <td>2015-02-23</td>\n",
              "      <td>8</td>\n",
              "      <td>2015</td>\n",
              "      <td>2</td>\n",
              "      <td>23</td>\n",
              "      <td>528</td>\n",
              "    </tr>\n",
              "    <tr>\n",
              "      <th>3</th>\n",
              "      <td>2016-05-15</td>\n",
              "      <td>9</td>\n",
              "      <td>2016</td>\n",
              "      <td>5</td>\n",
              "      <td>15</td>\n",
              "      <td>224</td>\n",
              "    </tr>\n",
              "    <tr>\n",
              "      <th>4</th>\n",
              "      <td>2011-07-12</td>\n",
              "      <td>10</td>\n",
              "      <td>2011</td>\n",
              "      <td>7</td>\n",
              "      <td>12</td>\n",
              "      <td>143</td>\n",
              "    </tr>\n",
              "    <tr>\n",
              "      <th>5</th>\n",
              "      <td>2023-02-22</td>\n",
              "      <td>8</td>\n",
              "      <td>2023</td>\n",
              "      <td>2</td>\n",
              "      <td>22</td>\n",
              "      <td>483</td>\n",
              "    </tr>\n",
              "  </tbody>\n",
              "</table>\n",
              "</div>"
            ],
            "text/plain": [
              "        Date  Quantité  Annee  Mois  Jour  Jour cal\n",
              "0 2018-11-20         4   2018    11    20       399\n",
              "1 2020-10-23         5   2020    10    23       528\n",
              "2 2015-02-23         8   2015     2    23       528\n",
              "3 2016-05-15         9   2016     5    15       224\n",
              "4 2011-07-12        10   2011     7    12       143\n",
              "5 2023-02-22         8   2023     2    22       483"
            ]
          },
          "execution_count": 84,
          "metadata": {},
          "output_type": "execute_result"
        }
      ],
      "source": [
        "df['Jour cal'] = df['Date'].apply(lambda z: (z.day**2) - 1)\n",
        "df"
      ]
    },
    {
      "cell_type": "code",
      "execution_count": 85,
      "metadata": {},
      "outputs": [
        {
          "data": {
            "text/html": [
              "<div>\n",
              "<style scoped>\n",
              "    .dataframe tbody tr th:only-of-type {\n",
              "        vertical-align: middle;\n",
              "    }\n",
              "\n",
              "    .dataframe tbody tr th {\n",
              "        vertical-align: top;\n",
              "    }\n",
              "\n",
              "    .dataframe thead th {\n",
              "        text-align: right;\n",
              "    }\n",
              "</style>\n",
              "<table border=\"1\" class=\"dataframe\">\n",
              "  <thead>\n",
              "    <tr style=\"text-align: right;\">\n",
              "      <th></th>\n",
              "      <th>Date</th>\n",
              "      <th>Quantité</th>\n",
              "      <th>Annee</th>\n",
              "      <th>Mois</th>\n",
              "      <th>Jour</th>\n",
              "      <th>Jour cal</th>\n",
              "      <th>Jour cal2</th>\n",
              "    </tr>\n",
              "  </thead>\n",
              "  <tbody>\n",
              "    <tr>\n",
              "      <th>0</th>\n",
              "      <td>2018-11-20</td>\n",
              "      <td>4</td>\n",
              "      <td>2018</td>\n",
              "      <td>11</td>\n",
              "      <td>20</td>\n",
              "      <td>399</td>\n",
              "      <td>399</td>\n",
              "    </tr>\n",
              "    <tr>\n",
              "      <th>1</th>\n",
              "      <td>2020-10-23</td>\n",
              "      <td>5</td>\n",
              "      <td>2020</td>\n",
              "      <td>10</td>\n",
              "      <td>23</td>\n",
              "      <td>528</td>\n",
              "      <td>528</td>\n",
              "    </tr>\n",
              "    <tr>\n",
              "      <th>2</th>\n",
              "      <td>2015-02-23</td>\n",
              "      <td>8</td>\n",
              "      <td>2015</td>\n",
              "      <td>2</td>\n",
              "      <td>23</td>\n",
              "      <td>528</td>\n",
              "      <td>528</td>\n",
              "    </tr>\n",
              "    <tr>\n",
              "      <th>3</th>\n",
              "      <td>2016-05-15</td>\n",
              "      <td>9</td>\n",
              "      <td>2016</td>\n",
              "      <td>5</td>\n",
              "      <td>15</td>\n",
              "      <td>224</td>\n",
              "      <td>224</td>\n",
              "    </tr>\n",
              "    <tr>\n",
              "      <th>4</th>\n",
              "      <td>2011-07-12</td>\n",
              "      <td>10</td>\n",
              "      <td>2011</td>\n",
              "      <td>7</td>\n",
              "      <td>12</td>\n",
              "      <td>143</td>\n",
              "      <td>143</td>\n",
              "    </tr>\n",
              "    <tr>\n",
              "      <th>5</th>\n",
              "      <td>2023-02-22</td>\n",
              "      <td>8</td>\n",
              "      <td>2023</td>\n",
              "      <td>2</td>\n",
              "      <td>22</td>\n",
              "      <td>483</td>\n",
              "      <td>483</td>\n",
              "    </tr>\n",
              "  </tbody>\n",
              "</table>\n",
              "</div>"
            ],
            "text/plain": [
              "        Date  Quantité  Annee  Mois  Jour  Jour cal  Jour cal2\n",
              "0 2018-11-20         4   2018    11    20       399        399\n",
              "1 2020-10-23         5   2020    10    23       528        528\n",
              "2 2015-02-23         8   2015     2    23       528        528\n",
              "3 2016-05-15         9   2016     5    15       224        224\n",
              "4 2011-07-12        10   2011     7    12       143        143\n",
              "5 2023-02-22         8   2023     2    22       483        483"
            ]
          },
          "execution_count": 85,
          "metadata": {},
          "output_type": "execute_result"
        }
      ],
      "source": [
        "df['Jour cal2'] = df['Jour'].apply(lambda z: (z**2) - 1)\n",
        "df"
      ]
    },
    {
      "cell_type": "code",
      "execution_count": 86,
      "metadata": {},
      "outputs": [],
      "source": [
        "def cube(x):\n",
        "    return x**3"
      ]
    },
    {
      "cell_type": "code",
      "execution_count": 87,
      "metadata": {},
      "outputs": [
        {
          "data": {
            "text/plain": [
              "125"
            ]
          },
          "execution_count": 87,
          "metadata": {},
          "output_type": "execute_result"
        }
      ],
      "source": [
        "cube(5)"
      ]
    },
    {
      "cell_type": "code",
      "execution_count": 88,
      "metadata": {},
      "outputs": [
        {
          "data": {
            "text/html": [
              "<div>\n",
              "<style scoped>\n",
              "    .dataframe tbody tr th:only-of-type {\n",
              "        vertical-align: middle;\n",
              "    }\n",
              "\n",
              "    .dataframe tbody tr th {\n",
              "        vertical-align: top;\n",
              "    }\n",
              "\n",
              "    .dataframe thead th {\n",
              "        text-align: right;\n",
              "    }\n",
              "</style>\n",
              "<table border=\"1\" class=\"dataframe\">\n",
              "  <thead>\n",
              "    <tr style=\"text-align: right;\">\n",
              "      <th></th>\n",
              "      <th>Date</th>\n",
              "      <th>Quantité</th>\n",
              "      <th>Annee</th>\n",
              "      <th>Mois</th>\n",
              "      <th>Jour</th>\n",
              "      <th>Jour cal</th>\n",
              "      <th>Jour cal2</th>\n",
              "      <th>Jour cal3</th>\n",
              "    </tr>\n",
              "  </thead>\n",
              "  <tbody>\n",
              "    <tr>\n",
              "      <th>0</th>\n",
              "      <td>2018-11-20</td>\n",
              "      <td>4</td>\n",
              "      <td>2018</td>\n",
              "      <td>11</td>\n",
              "      <td>20</td>\n",
              "      <td>399</td>\n",
              "      <td>399</td>\n",
              "      <td>8000</td>\n",
              "    </tr>\n",
              "    <tr>\n",
              "      <th>1</th>\n",
              "      <td>2020-10-23</td>\n",
              "      <td>5</td>\n",
              "      <td>2020</td>\n",
              "      <td>10</td>\n",
              "      <td>23</td>\n",
              "      <td>528</td>\n",
              "      <td>528</td>\n",
              "      <td>12167</td>\n",
              "    </tr>\n",
              "    <tr>\n",
              "      <th>2</th>\n",
              "      <td>2015-02-23</td>\n",
              "      <td>8</td>\n",
              "      <td>2015</td>\n",
              "      <td>2</td>\n",
              "      <td>23</td>\n",
              "      <td>528</td>\n",
              "      <td>528</td>\n",
              "      <td>12167</td>\n",
              "    </tr>\n",
              "    <tr>\n",
              "      <th>3</th>\n",
              "      <td>2016-05-15</td>\n",
              "      <td>9</td>\n",
              "      <td>2016</td>\n",
              "      <td>5</td>\n",
              "      <td>15</td>\n",
              "      <td>224</td>\n",
              "      <td>224</td>\n",
              "      <td>3375</td>\n",
              "    </tr>\n",
              "    <tr>\n",
              "      <th>4</th>\n",
              "      <td>2011-07-12</td>\n",
              "      <td>10</td>\n",
              "      <td>2011</td>\n",
              "      <td>7</td>\n",
              "      <td>12</td>\n",
              "      <td>143</td>\n",
              "      <td>143</td>\n",
              "      <td>1728</td>\n",
              "    </tr>\n",
              "    <tr>\n",
              "      <th>5</th>\n",
              "      <td>2023-02-22</td>\n",
              "      <td>8</td>\n",
              "      <td>2023</td>\n",
              "      <td>2</td>\n",
              "      <td>22</td>\n",
              "      <td>483</td>\n",
              "      <td>483</td>\n",
              "      <td>10648</td>\n",
              "    </tr>\n",
              "  </tbody>\n",
              "</table>\n",
              "</div>"
            ],
            "text/plain": [
              "        Date  Quantité  Annee  Mois  Jour  Jour cal  Jour cal2  Jour cal3\n",
              "0 2018-11-20         4   2018    11    20       399        399       8000\n",
              "1 2020-10-23         5   2020    10    23       528        528      12167\n",
              "2 2015-02-23         8   2015     2    23       528        528      12167\n",
              "3 2016-05-15         9   2016     5    15       224        224       3375\n",
              "4 2011-07-12        10   2011     7    12       143        143       1728\n",
              "5 2023-02-22         8   2023     2    22       483        483      10648"
            ]
          },
          "execution_count": 88,
          "metadata": {},
          "output_type": "execute_result"
        }
      ],
      "source": [
        "df['Jour cal3'] = df['Jour'].apply(cube)\n",
        "df"
      ]
    },
    {
      "cell_type": "code",
      "execution_count": 90,
      "metadata": {},
      "outputs": [],
      "source": [
        "carre = lambda x: x**2"
      ]
    },
    {
      "cell_type": "code",
      "execution_count": 91,
      "metadata": {},
      "outputs": [
        {
          "data": {
            "text/plain": [
              "25"
            ]
          },
          "execution_count": 91,
          "metadata": {},
          "output_type": "execute_result"
        }
      ],
      "source": [
        "carre(5)"
      ]
    },
    {
      "cell_type": "code",
      "execution_count": 94,
      "metadata": {},
      "outputs": [
        {
          "data": {
            "text/html": [
              "<div>\n",
              "<style scoped>\n",
              "    .dataframe tbody tr th:only-of-type {\n",
              "        vertical-align: middle;\n",
              "    }\n",
              "\n",
              "    .dataframe tbody tr th {\n",
              "        vertical-align: top;\n",
              "    }\n",
              "\n",
              "    .dataframe thead th {\n",
              "        text-align: right;\n",
              "    }\n",
              "</style>\n",
              "<table border=\"1\" class=\"dataframe\">\n",
              "  <thead>\n",
              "    <tr style=\"text-align: right;\">\n",
              "      <th></th>\n",
              "      <th>Date</th>\n",
              "      <th>Quantité</th>\n",
              "      <th>Annee</th>\n",
              "      <th>Mois</th>\n",
              "      <th>Jour</th>\n",
              "      <th>Jour cal</th>\n",
              "      <th>Jour cal2</th>\n",
              "      <th>Jour cal3</th>\n",
              "      <th>Annee_moins_10</th>\n",
              "    </tr>\n",
              "  </thead>\n",
              "  <tbody>\n",
              "    <tr>\n",
              "      <th>0</th>\n",
              "      <td>2018-11-20</td>\n",
              "      <td>4</td>\n",
              "      <td>2018</td>\n",
              "      <td>11</td>\n",
              "      <td>20</td>\n",
              "      <td>399</td>\n",
              "      <td>399</td>\n",
              "      <td>8000</td>\n",
              "      <td>2008</td>\n",
              "    </tr>\n",
              "    <tr>\n",
              "      <th>1</th>\n",
              "      <td>2020-10-23</td>\n",
              "      <td>5</td>\n",
              "      <td>2020</td>\n",
              "      <td>10</td>\n",
              "      <td>23</td>\n",
              "      <td>528</td>\n",
              "      <td>528</td>\n",
              "      <td>12167</td>\n",
              "      <td>2010</td>\n",
              "    </tr>\n",
              "    <tr>\n",
              "      <th>2</th>\n",
              "      <td>2015-02-23</td>\n",
              "      <td>8</td>\n",
              "      <td>2015</td>\n",
              "      <td>2</td>\n",
              "      <td>23</td>\n",
              "      <td>528</td>\n",
              "      <td>528</td>\n",
              "      <td>12167</td>\n",
              "      <td>2005</td>\n",
              "    </tr>\n",
              "    <tr>\n",
              "      <th>3</th>\n",
              "      <td>2016-05-15</td>\n",
              "      <td>9</td>\n",
              "      <td>2016</td>\n",
              "      <td>5</td>\n",
              "      <td>15</td>\n",
              "      <td>224</td>\n",
              "      <td>224</td>\n",
              "      <td>3375</td>\n",
              "      <td>2006</td>\n",
              "    </tr>\n",
              "    <tr>\n",
              "      <th>4</th>\n",
              "      <td>2011-07-12</td>\n",
              "      <td>10</td>\n",
              "      <td>2011</td>\n",
              "      <td>7</td>\n",
              "      <td>12</td>\n",
              "      <td>143</td>\n",
              "      <td>143</td>\n",
              "      <td>1728</td>\n",
              "      <td>2001</td>\n",
              "    </tr>\n",
              "    <tr>\n",
              "      <th>5</th>\n",
              "      <td>2023-02-22</td>\n",
              "      <td>8</td>\n",
              "      <td>2023</td>\n",
              "      <td>2</td>\n",
              "      <td>22</td>\n",
              "      <td>483</td>\n",
              "      <td>483</td>\n",
              "      <td>10648</td>\n",
              "      <td>2013</td>\n",
              "    </tr>\n",
              "  </tbody>\n",
              "</table>\n",
              "</div>"
            ],
            "text/plain": [
              "        Date  Quantité  Annee  Mois  Jour  Jour cal  Jour cal2  Jour cal3  \\\n",
              "0 2018-11-20         4   2018    11    20       399        399       8000   \n",
              "1 2020-10-23         5   2020    10    23       528        528      12167   \n",
              "2 2015-02-23         8   2015     2    23       528        528      12167   \n",
              "3 2016-05-15         9   2016     5    15       224        224       3375   \n",
              "4 2011-07-12        10   2011     7    12       143        143       1728   \n",
              "5 2023-02-22         8   2023     2    22       483        483      10648   \n",
              "\n",
              "   Annee_moins_10  \n",
              "0            2008  \n",
              "1            2010  \n",
              "2            2005  \n",
              "3            2006  \n",
              "4            2001  \n",
              "5            2013  "
            ]
          },
          "execution_count": 94,
          "metadata": {},
          "output_type": "execute_result"
        }
      ],
      "source": [
        "df['Annee_moins_10'] = df['Annee'].apply(lambda x: x - 10)\n",
        "df"
      ]
    },
    {
      "cell_type": "code",
      "execution_count": 96,
      "metadata": {},
      "outputs": [
        {
          "data": {
            "text/html": [
              "<div>\n",
              "<style scoped>\n",
              "    .dataframe tbody tr th:only-of-type {\n",
              "        vertical-align: middle;\n",
              "    }\n",
              "\n",
              "    .dataframe tbody tr th {\n",
              "        vertical-align: top;\n",
              "    }\n",
              "\n",
              "    .dataframe thead th {\n",
              "        text-align: right;\n",
              "    }\n",
              "</style>\n",
              "<table border=\"1\" class=\"dataframe\">\n",
              "  <thead>\n",
              "    <tr style=\"text-align: right;\">\n",
              "      <th></th>\n",
              "      <th>Date</th>\n",
              "      <th>Quantité</th>\n",
              "      <th>Annee</th>\n",
              "      <th>Mois</th>\n",
              "      <th>Jour</th>\n",
              "      <th>Jour cal</th>\n",
              "      <th>Jour cal2</th>\n",
              "      <th>Jour cal3</th>\n",
              "      <th>Annee_moins_10</th>\n",
              "      <th>Annee_paire</th>\n",
              "    </tr>\n",
              "  </thead>\n",
              "  <tbody>\n",
              "    <tr>\n",
              "      <th>0</th>\n",
              "      <td>2018-11-20</td>\n",
              "      <td>4</td>\n",
              "      <td>2018</td>\n",
              "      <td>11</td>\n",
              "      <td>20</td>\n",
              "      <td>399</td>\n",
              "      <td>399</td>\n",
              "      <td>8000</td>\n",
              "      <td>2008</td>\n",
              "      <td>2018</td>\n",
              "    </tr>\n",
              "    <tr>\n",
              "      <th>1</th>\n",
              "      <td>2020-10-23</td>\n",
              "      <td>5</td>\n",
              "      <td>2020</td>\n",
              "      <td>10</td>\n",
              "      <td>23</td>\n",
              "      <td>528</td>\n",
              "      <td>528</td>\n",
              "      <td>12167</td>\n",
              "      <td>2010</td>\n",
              "      <td>2020</td>\n",
              "    </tr>\n",
              "    <tr>\n",
              "      <th>2</th>\n",
              "      <td>2015-02-23</td>\n",
              "      <td>8</td>\n",
              "      <td>2015</td>\n",
              "      <td>2</td>\n",
              "      <td>23</td>\n",
              "      <td>528</td>\n",
              "      <td>528</td>\n",
              "      <td>12167</td>\n",
              "      <td>2005</td>\n",
              "      <td>0</td>\n",
              "    </tr>\n",
              "    <tr>\n",
              "      <th>3</th>\n",
              "      <td>2016-05-15</td>\n",
              "      <td>9</td>\n",
              "      <td>2016</td>\n",
              "      <td>5</td>\n",
              "      <td>15</td>\n",
              "      <td>224</td>\n",
              "      <td>224</td>\n",
              "      <td>3375</td>\n",
              "      <td>2006</td>\n",
              "      <td>2016</td>\n",
              "    </tr>\n",
              "    <tr>\n",
              "      <th>4</th>\n",
              "      <td>2011-07-12</td>\n",
              "      <td>10</td>\n",
              "      <td>2011</td>\n",
              "      <td>7</td>\n",
              "      <td>12</td>\n",
              "      <td>143</td>\n",
              "      <td>143</td>\n",
              "      <td>1728</td>\n",
              "      <td>2001</td>\n",
              "      <td>0</td>\n",
              "    </tr>\n",
              "    <tr>\n",
              "      <th>5</th>\n",
              "      <td>2023-02-22</td>\n",
              "      <td>8</td>\n",
              "      <td>2023</td>\n",
              "      <td>2</td>\n",
              "      <td>22</td>\n",
              "      <td>483</td>\n",
              "      <td>483</td>\n",
              "      <td>10648</td>\n",
              "      <td>2013</td>\n",
              "      <td>0</td>\n",
              "    </tr>\n",
              "  </tbody>\n",
              "</table>\n",
              "</div>"
            ],
            "text/plain": [
              "        Date  Quantité  Annee  Mois  Jour  Jour cal  Jour cal2  Jour cal3  \\\n",
              "0 2018-11-20         4   2018    11    20       399        399       8000   \n",
              "1 2020-10-23         5   2020    10    23       528        528      12167   \n",
              "2 2015-02-23         8   2015     2    23       528        528      12167   \n",
              "3 2016-05-15         9   2016     5    15       224        224       3375   \n",
              "4 2011-07-12        10   2011     7    12       143        143       1728   \n",
              "5 2023-02-22         8   2023     2    22       483        483      10648   \n",
              "\n",
              "   Annee_moins_10  Annee_paire  \n",
              "0            2008         2018  \n",
              "1            2010         2020  \n",
              "2            2005            0  \n",
              "3            2006         2016  \n",
              "4            2001            0  \n",
              "5            2013            0  "
            ]
          },
          "execution_count": 96,
          "metadata": {},
          "output_type": "execute_result"
        }
      ],
      "source": [
        "df['Annee_paire'] = df['Annee'].apply(lambda x: x if x%2 == 0 else 0)\n",
        "df"
      ]
    },
    {
      "cell_type": "code",
      "execution_count": 98,
      "metadata": {},
      "outputs": [
        {
          "data": {
            "text/html": [
              "<div>\n",
              "<style scoped>\n",
              "    .dataframe tbody tr th:only-of-type {\n",
              "        vertical-align: middle;\n",
              "    }\n",
              "\n",
              "    .dataframe tbody tr th {\n",
              "        vertical-align: top;\n",
              "    }\n",
              "\n",
              "    .dataframe thead th {\n",
              "        text-align: right;\n",
              "    }\n",
              "</style>\n",
              "<table border=\"1\" class=\"dataframe\">\n",
              "  <thead>\n",
              "    <tr style=\"text-align: right;\">\n",
              "      <th></th>\n",
              "      <th>Date</th>\n",
              "      <th>Quantité</th>\n",
              "      <th>Annee</th>\n",
              "      <th>Mois</th>\n",
              "      <th>Jour</th>\n",
              "      <th>Jour cal</th>\n",
              "      <th>Jour cal2</th>\n",
              "      <th>Jour cal3</th>\n",
              "      <th>Annee_moins_10</th>\n",
              "      <th>Annee_paire</th>\n",
              "      <th>Quantité_new</th>\n",
              "    </tr>\n",
              "  </thead>\n",
              "  <tbody>\n",
              "    <tr>\n",
              "      <th>0</th>\n",
              "      <td>2018-11-20</td>\n",
              "      <td>4</td>\n",
              "      <td>2018</td>\n",
              "      <td>11</td>\n",
              "      <td>20</td>\n",
              "      <td>399</td>\n",
              "      <td>399</td>\n",
              "      <td>8000</td>\n",
              "      <td>2008</td>\n",
              "      <td>2018</td>\n",
              "      <td>4</td>\n",
              "    </tr>\n",
              "    <tr>\n",
              "      <th>1</th>\n",
              "      <td>2020-10-23</td>\n",
              "      <td>5</td>\n",
              "      <td>2020</td>\n",
              "      <td>10</td>\n",
              "      <td>23</td>\n",
              "      <td>528</td>\n",
              "      <td>528</td>\n",
              "      <td>12167</td>\n",
              "      <td>2010</td>\n",
              "      <td>2020</td>\n",
              "      <td>5</td>\n",
              "    </tr>\n",
              "    <tr>\n",
              "      <th>2</th>\n",
              "      <td>2015-02-23</td>\n",
              "      <td>8</td>\n",
              "      <td>2015</td>\n",
              "      <td>2</td>\n",
              "      <td>23</td>\n",
              "      <td>528</td>\n",
              "      <td>528</td>\n",
              "      <td>12167</td>\n",
              "      <td>2005</td>\n",
              "      <td>0</td>\n",
              "      <td>64</td>\n",
              "    </tr>\n",
              "    <tr>\n",
              "      <th>3</th>\n",
              "      <td>2016-05-15</td>\n",
              "      <td>9</td>\n",
              "      <td>2016</td>\n",
              "      <td>5</td>\n",
              "      <td>15</td>\n",
              "      <td>224</td>\n",
              "      <td>224</td>\n",
              "      <td>3375</td>\n",
              "      <td>2006</td>\n",
              "      <td>2016</td>\n",
              "      <td>81</td>\n",
              "    </tr>\n",
              "    <tr>\n",
              "      <th>4</th>\n",
              "      <td>2011-07-12</td>\n",
              "      <td>10</td>\n",
              "      <td>2011</td>\n",
              "      <td>7</td>\n",
              "      <td>12</td>\n",
              "      <td>143</td>\n",
              "      <td>143</td>\n",
              "      <td>1728</td>\n",
              "      <td>2001</td>\n",
              "      <td>0</td>\n",
              "      <td>100</td>\n",
              "    </tr>\n",
              "    <tr>\n",
              "      <th>5</th>\n",
              "      <td>2023-02-22</td>\n",
              "      <td>8</td>\n",
              "      <td>2023</td>\n",
              "      <td>2</td>\n",
              "      <td>22</td>\n",
              "      <td>483</td>\n",
              "      <td>483</td>\n",
              "      <td>10648</td>\n",
              "      <td>2013</td>\n",
              "      <td>0</td>\n",
              "      <td>64</td>\n",
              "    </tr>\n",
              "  </tbody>\n",
              "</table>\n",
              "</div>"
            ],
            "text/plain": [
              "        Date  Quantité  Annee  Mois  Jour  Jour cal  Jour cal2  Jour cal3  \\\n",
              "0 2018-11-20         4   2018    11    20       399        399       8000   \n",
              "1 2020-10-23         5   2020    10    23       528        528      12167   \n",
              "2 2015-02-23         8   2015     2    23       528        528      12167   \n",
              "3 2016-05-15         9   2016     5    15       224        224       3375   \n",
              "4 2011-07-12        10   2011     7    12       143        143       1728   \n",
              "5 2023-02-22         8   2023     2    22       483        483      10648   \n",
              "\n",
              "   Annee_moins_10  Annee_paire  Quantité_new  \n",
              "0            2008         2018             4  \n",
              "1            2010         2020             5  \n",
              "2            2005            0            64  \n",
              "3            2006         2016            81  \n",
              "4            2001            0           100  \n",
              "5            2013            0            64  "
            ]
          },
          "execution_count": 98,
          "metadata": {},
          "output_type": "execute_result"
        }
      ],
      "source": [
        "df['Quantité_new'] = df['Quantité'].apply(lambda x: x if x < 8 else x**2)\n",
        "df"
      ]
    },
    {
      "cell_type": "code",
      "execution_count": 99,
      "metadata": {},
      "outputs": [
        {
          "data": {
            "text/html": [
              "<div>\n",
              "<style scoped>\n",
              "    .dataframe tbody tr th:only-of-type {\n",
              "        vertical-align: middle;\n",
              "    }\n",
              "\n",
              "    .dataframe tbody tr th {\n",
              "        vertical-align: top;\n",
              "    }\n",
              "\n",
              "    .dataframe thead th {\n",
              "        text-align: right;\n",
              "    }\n",
              "</style>\n",
              "<table border=\"1\" class=\"dataframe\">\n",
              "  <thead>\n",
              "    <tr style=\"text-align: right;\">\n",
              "      <th></th>\n",
              "      <th>Date</th>\n",
              "      <th>Quantité</th>\n",
              "      <th>Annee</th>\n",
              "      <th>Mois</th>\n",
              "      <th>Jour</th>\n",
              "      <th>Jour cal</th>\n",
              "      <th>Jour cal2</th>\n",
              "      <th>Jour cal3</th>\n",
              "      <th>Annee_moins_10</th>\n",
              "      <th>Annee_paire</th>\n",
              "      <th>Quantité_new</th>\n",
              "    </tr>\n",
              "  </thead>\n",
              "  <tbody>\n",
              "    <tr>\n",
              "      <th>0</th>\n",
              "      <td>2018-11-20</td>\n",
              "      <td>4</td>\n",
              "      <td>2018</td>\n",
              "      <td>11</td>\n",
              "      <td>20</td>\n",
              "      <td>399</td>\n",
              "      <td>399</td>\n",
              "      <td>8000</td>\n",
              "      <td>2008</td>\n",
              "      <td>2018</td>\n",
              "      <td>4</td>\n",
              "    </tr>\n",
              "    <tr>\n",
              "      <th>1</th>\n",
              "      <td>2020-10-23</td>\n",
              "      <td>5</td>\n",
              "      <td>2020</td>\n",
              "      <td>10</td>\n",
              "      <td>23</td>\n",
              "      <td>528</td>\n",
              "      <td>528</td>\n",
              "      <td>12167</td>\n",
              "      <td>2010</td>\n",
              "      <td>2020</td>\n",
              "      <td>5</td>\n",
              "    </tr>\n",
              "    <tr>\n",
              "      <th>2</th>\n",
              "      <td>2015-02-23</td>\n",
              "      <td>8</td>\n",
              "      <td>2015</td>\n",
              "      <td>2</td>\n",
              "      <td>23</td>\n",
              "      <td>528</td>\n",
              "      <td>528</td>\n",
              "      <td>12167</td>\n",
              "      <td>2005</td>\n",
              "      <td>0</td>\n",
              "      <td>64</td>\n",
              "    </tr>\n",
              "    <tr>\n",
              "      <th>3</th>\n",
              "      <td>2016-05-15</td>\n",
              "      <td>9</td>\n",
              "      <td>2016</td>\n",
              "      <td>5</td>\n",
              "      <td>15</td>\n",
              "      <td>224</td>\n",
              "      <td>224</td>\n",
              "      <td>3375</td>\n",
              "      <td>2006</td>\n",
              "      <td>2016</td>\n",
              "      <td>81</td>\n",
              "    </tr>\n",
              "    <tr>\n",
              "      <th>4</th>\n",
              "      <td>2011-07-12</td>\n",
              "      <td>10</td>\n",
              "      <td>2011</td>\n",
              "      <td>7</td>\n",
              "      <td>12</td>\n",
              "      <td>143</td>\n",
              "      <td>143</td>\n",
              "      <td>1728</td>\n",
              "      <td>2001</td>\n",
              "      <td>0</td>\n",
              "      <td>100</td>\n",
              "    </tr>\n",
              "    <tr>\n",
              "      <th>5</th>\n",
              "      <td>2023-02-22</td>\n",
              "      <td>8</td>\n",
              "      <td>2023</td>\n",
              "      <td>2</td>\n",
              "      <td>22</td>\n",
              "      <td>483</td>\n",
              "      <td>483</td>\n",
              "      <td>10648</td>\n",
              "      <td>2013</td>\n",
              "      <td>0</td>\n",
              "      <td>64</td>\n",
              "    </tr>\n",
              "  </tbody>\n",
              "</table>\n",
              "</div>"
            ],
            "text/plain": [
              "        Date  Quantité  Annee  Mois  Jour  Jour cal  Jour cal2  Jour cal3  \\\n",
              "0 2018-11-20         4   2018    11    20       399        399       8000   \n",
              "1 2020-10-23         5   2020    10    23       528        528      12167   \n",
              "2 2015-02-23         8   2015     2    23       528        528      12167   \n",
              "3 2016-05-15         9   2016     5    15       224        224       3375   \n",
              "4 2011-07-12        10   2011     7    12       143        143       1728   \n",
              "5 2023-02-22         8   2023     2    22       483        483      10648   \n",
              "\n",
              "   Annee_moins_10  Annee_paire  Quantité_new  \n",
              "0            2008         2018             4  \n",
              "1            2010         2020             5  \n",
              "2            2005            0            64  \n",
              "3            2006         2016            81  \n",
              "4            2001            0           100  \n",
              "5            2013            0            64  "
            ]
          },
          "execution_count": 99,
          "metadata": {},
          "output_type": "execute_result"
        }
      ],
      "source": [
        "df['Quantité_new'] = df['Quantité'].apply(lambda x: x**2 if x >= 8 else x)\n",
        "df"
      ]
    },
    {
      "attachments": {},
      "cell_type": "markdown",
      "metadata": {},
      "source": [
        "Méthode .strptime()"
      ]
    },
    {
      "cell_type": "code",
      "execution_count": 102,
      "metadata": {},
      "outputs": [
        {
          "name": "stdout",
          "output_type": "stream",
          "text": [
            "2018-11-20 18:30:00\n",
            "<class 'datetime.datetime'>\n"
          ]
        }
      ],
      "source": [
        "date_string = \"20/11/18 18:30\"\n",
        "date = datetime.datetime.strptime(date_string, \"%d/%m/%y %H:%M\")\n",
        "print(date)\n",
        "print(type(date))"
      ]
    }
  ],
  "metadata": {
    "colab": {
      "provenance": []
    },
    "kernelspec": {
      "display_name": "base",
      "language": "python",
      "name": "python3"
    },
    "language_info": {
      "codemirror_mode": {
        "name": "ipython",
        "version": 3
      },
      "file_extension": ".py",
      "mimetype": "text/x-python",
      "name": "python",
      "nbconvert_exporter": "python",
      "pygments_lexer": "ipython3",
      "version": "3.9.12"
    },
    "vscode": {
      "interpreter": {
        "hash": "34b9de834f38ee9a6ce86ceda3248b689782f468cb0d176dfe7bd8188190e0ac"
      }
    }
  },
  "nbformat": 4,
  "nbformat_minor": 0
}
